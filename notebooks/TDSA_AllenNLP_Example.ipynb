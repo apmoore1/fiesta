{
  "nbformat": 4,
  "nbformat_minor": 0,
  "metadata": {
    "colab": {
      "name": "TDSA_AllenNLP_Example.ipynb",
      "version": "0.3.2",
      "provenance": [],
      "collapsed_sections": [],
      "include_colab_link": true
    },
    "kernelspec": {
      "name": "python3",
      "display_name": "Python 3"
    },
    "accelerator": "GPU"
  },
  "cells": [
    {
      "cell_type": "markdown",
      "metadata": {
        "id": "view-in-github",
        "colab_type": "text"
      },
      "source": [
        "<a href=\"https://colab.research.google.com/github/apmoore1/fiesta/blob/master/notebooks/TDSA_AllenNLP_Example.ipynb\" target=\"_parent\"><img src=\"https://colab.research.google.com/assets/colab-badge.svg\" alt=\"Open In Colab\"/></a>"
      ]
    },
    {
      "cell_type": "code",
      "metadata": {
        "id": "dSihS9DqyvIg",
        "colab_type": "code",
        "colab": {}
      },
      "source": [
        "%%capture\n",
        "!pip install git+git://github.com/apmoore1/fiesta.git@master#egg=fiesta-nlp\n",
        "!pip install git+git://github.com/apmoore1/Bella-AllenNLP.git@FIESTA#egg=bella-allennlp\n",
        "!pip install nltk\n",
        "import nltk\n",
        "nltk.download('perluniprops')"
      ],
      "execution_count": 0,
      "outputs": []
    },
    {
      "cell_type": "code",
      "metadata": {
        "id": "YxPqEn_A07V3",
        "colab_type": "code",
        "colab": {
          "base_uri": "https://localhost:8080/",
          "height": 34
        },
        "outputId": "1b48a08a-76fe-42d7-861a-2e80c625525b"
      },
      "source": [
        "from collections import defaultdict\n",
        "from itertools import product\n",
        "import json\n",
        "from typing import List, Tuple, Dict, Any, Callable, Optional\n",
        "from pathlib import Path\n",
        "import random\n",
        "import tempfile\n",
        "\n",
        "from allennlp.common.params import Params\n",
        "from allennlp.training.trainer import Trainer, TrainerPieces\n",
        "from allennlp.training.util import evaluate\n",
        "import bella_allen_nlp\n",
        "import bella\n",
        "import fiesta\n",
        "import requests\n",
        "from matplotlib import pyplot as plt\n",
        "import pandas as pd\n",
        "import torch\n",
        "import seaborn as sns"
      ],
      "execution_count": 3,
      "outputs": [
        {
          "output_type": "stream",
          "text": [
            "Using TensorFlow backend.\n"
          ],
          "name": "stderr"
        }
      ]
    },
    {
      "cell_type": "code",
      "metadata": {
        "id": "3UcWq4kh1H6v",
        "colab_type": "code",
        "colab": {}
      },
      "source": [
        "def download_model_configs(training_config_folder: Path\n",
        "                           ) -> Tuple[List[str], List[Path]]:\n",
        "  '''\n",
        "  :param training_config_folder: Folder to store the downloaded model \n",
        "                                 config files\n",
        "  :returns: A Tuple containing 2 lists:\n",
        "            1. A list of the model names\n",
        "            2. A list of File Paths to the model names associated model \n",
        "               config file.\n",
        "  '''\n",
        "  base_url = 'https://raw.githubusercontent.com/apmoore1/fiesta/master/'\\\n",
        "             'allennlp_training_configs/TDSA/'\n",
        "  model_names = ['atae', 'atae_50', 'ian', 'ian_50', 'lstm', 'lstm_50', \n",
        "                 'tdlstm', 'tdlstm_50']\n",
        "  extension = '.jsonnet'\n",
        "  config_fps = []\n",
        "  for model_name in model_names:\n",
        "    config_file_name = model_name + extension\n",
        "    config_url = base_url + config_file_name\n",
        "    response = requests.get(config_url, stream=True)\n",
        "    config_fp = Path(training_config_folder, config_file_name).resolve()\n",
        "    with config_fp.open('wb+') as config_file:\n",
        "      for chunk in response.iter_content(chunk_size=128):\n",
        "        config_file.write(chunk)\n",
        "    config_fps.append(config_fp)\n",
        "  return model_names, config_fps\n",
        "\n",
        "def split_data(data: List[Dict[str, Any]]) -> Tuple[List[Dict[str, Any]], \n",
        "                                                    List[Dict[str, Any]]]:\n",
        "  '''\n",
        "  Splits the data into Train and Test data splits.\n",
        "  \n",
        "  We could use a function like sklearn.model_selection.train_test_split\n",
        "  but the way the TDSA data has been parsed means that samples that use the \n",
        "  same sentence but have a different Target should be in the same data split \n",
        "  else one data split could contain different targets but the same sentence \n",
        "  hence why we have used this random splitting method instead which assumes \n",
        "  that the data has been parsed in such a way that all targets with the same \n",
        "  sentence are next to each other in the list.\n",
        "  \n",
        "  :params data: A dataset\n",
        "  :returns: A tuple of Train, and Test data in the same format \n",
        "            as the original input.\n",
        "  '''\n",
        "  # Hard code the test data size as 20% of the original data\n",
        "  data_size = len(data)\n",
        "  test_data_size = int(data_size * 0.2)\n",
        "  \n",
        "  start_index = random.randint(0, data_size)\n",
        "  end_index = start_index + test_data_size\n",
        "  if end_index > data_size:\n",
        "    index_diff = end_index - data_size\n",
        "    test_data = data[start_index:]\n",
        "    test_data.extend(data[:index_diff])\n",
        "    train_data = data[index_diff:start_index]\n",
        "  else:\n",
        "    test_data = data[start_index: end_index]\n",
        "    train_data = data[end_index:]\n",
        "    train_data.extend(data[:start_index])\n",
        "  return train_data, test_data\n",
        "\n",
        "def write_data_to_file(data: List[Dict[str, Any]], data_fp: Path) -> None:\n",
        "  '''\n",
        "  :params data: Data to write to file\n",
        "  :params data_fp: File path to write the data to\n",
        "  :returns: Nothing\n",
        "  '''\n",
        "  with data_fp.open('w+') as data_file:\n",
        "    for index, sample in enumerate(data):\n",
        "      # Don't need the epoch number and it is not JSON serlizable easily\n",
        "      if 'epoch_number' in sample:\n",
        "        del sample['epoch_number']\n",
        "      sample = json.dumps(sample)\n",
        "      if index != 0:\n",
        "        sample = f'\\n{sample}'\n",
        "      data_file.write(sample)\n",
        "      \n",
        "def add_data_to_params(train_data: List[Dict[str, Any]], \n",
        "                       dev_data: List[Dict[str, Any]], \n",
        "                       test_data: List[Dict[str, Any]],\n",
        "                       data_dir: Path,\n",
        "                       params: Params) -> None:\n",
        "  '''\n",
        "  Saves the Train, development, and test data to files within the `data_dir`.\n",
        "  These file paths are then add to the `params`.\n",
        "  '''\n",
        "  files_names = ['train.json', 'dev.json', 'test.json']\n",
        "  datasets = [train_data, dev_data, test_data]\n",
        "  params_key = ['train_data_path', 'validation_data_path', 'test_data_path']\n",
        "\n",
        "  for file_name, data, param_key in zip(files_names, datasets, params_key):\n",
        "    # Save data to file within the directory given\n",
        "    file_path = Path(data_dir, file_name)\n",
        "    write_data_to_file(data, file_path)\n",
        "    # Add data path to the params\n",
        "    params[param_key] = file_path"
      ],
      "execution_count": 0,
      "outputs": []
    },
    {
      "cell_type": "markdown",
      "metadata": {
        "id": "v1GNmNJtWPl1",
        "colab_type": "text"
      },
      "source": [
        "# How to use the FIESTA package with custom AllenNLP models\n",
        "\n",
        "In this tutorial we will show how to use the [FIESTA package](https://apmoore1.github.io/fiesta/index.html) with real world Target Dependent Sentiment Analysis (TDSA) models that have been created in PyTorch using the [AllenNLP package](https://allennlp.org/). We hope to create more tutorials using just PyTorch, TensorFlow/Keras, SKLearn, and a mixture of all 4 soon. These are \"custom\" AllenNLP models as we are not using AllenNLP models or dataset readers from the AllenNLP library but we are using custom TDSA version that sub-class the AllenNLP version, these have come from the [Bella-AllenNLP](https://github.com/apmoore1/Bella-AllenNLP) github repository.\n",
        "\n",
        "We are going to replicate the experiments that were done in the [FIESTA paper](https://arxiv.org/pdf/1906.12230.pdf) but unlike the tutorial on [Advantages of model selection]() here we are not using static results that have been created by running each model 500 times. We are going to run the models each time we need them as you would in the real world to demonstrate how to use the [FIESTA package](https://apmoore1.github.io/fiesta/index.html) in any of your projects.\n",
        "\n",
        "This notebook is broken down into 3 sections:\n",
        "1. Set up - How to setup your project to use the [FIESTA package](https://apmoore1.github.io/fiesta/index.html)\n",
        "2. Running [Fixed Confidence methods](https://apmoore1.github.io/fiesta/api/fixed_confidence.html)\n",
        "3. Running [Fixed Budget methods](https://apmoore1.github.io/fiesta/api/fixed_budget.html)\n",
        "4. Conclusion\n",
        "\n",
        "**NOTE** It is best to run these models on a GPU as they can take a while to process on a CPU. Therefore I would advise either setting the Google Colab to a GPU runtime (Go to runtime option at the top of this notebook and click `change runtime`). OR run this notebook locally on your own GPU machine. \n",
        "\n",
        "## Set Up\n",
        "This is split into 4 main steps:\n",
        "1. Getting the data\n",
        "2. Splitting the data\n",
        "3. Models\n",
        "\n",
        "### Getting the data\n",
        "As stated earlier the task we are performing is TDSA and we are going to evaluate our TDSA methods on the well known English [SemEval 2014 task 4 Restaurant domain](http://alt.qcri.org/semeval2014/task4/) data. Training [data](http://metashare.ilsp.gr:8080/repository/browse/semeval-2014-absa-train-data-v20-annotation-guidelines/683b709298b811e3a0e2842b2b6a04d7c7a19307f18a4940beef6a6143f937f0/) (named Restaurants_Train_v2.xml) and test [data](http://metashare.ilsp.gr:8080/repository/browse/semeval-2014-absa-test-data-gold-annotations/b98d11cec18211e38229842b2b6a04d77591d40acd7542b7af823a54fb03a155/) (named Restaurants_Test_Gold.xml) can be found at their respective links from which this data needs downloading from.\n",
        "\n",
        "#### Using Google Colab NOT LOCALLY\n",
        "If your using Google Colab not locally you need to upload the training and testing files. Please do so by running the next code box\n",
        "\n",
        "#### Using Google Colab LOCALLY\n",
        "Please ignore the next code box as you do not need to upload the training or test data to anywhere. **HOWEVER** in this tutorial we will assume that the files you have downloaded are in the current directory that this notebook is running from."
      ]
    },
    {
      "cell_type": "code",
      "metadata": {
        "id": "9L5SNAt1bbYQ",
        "colab_type": "code",
        "outputId": "7434c0f5-7b12-4610-9c4b-c7b3e4be8c13",
        "colab": {
          "resources": {
            "http://localhost:8080/nbextensions/google.colab/files.js": {
              "data": "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",
              "ok": true,
              "headers": [
                [
                  "content-type",
                  "application/javascript"
                ]
              ],
              "status": 200,
              "status_text": ""
            }
          },
          "base_uri": "https://localhost:8080/",
          "height": 125
        }
      },
      "source": [
        "from google.colab import files\n",
        "for i in range(2):\n",
        "  temp_uploaded = files.upload()"
      ],
      "execution_count": 0,
      "outputs": [
        {
          "output_type": "display_data",
          "data": {
            "text/html": [
              "\n",
              "     <input type=\"file\" id=\"files-46351c81-0286-431f-a48c-71888926dec9\" name=\"files[]\" multiple disabled />\n",
              "     <output id=\"result-46351c81-0286-431f-a48c-71888926dec9\">\n",
              "      Upload widget is only available when the cell has been executed in the\n",
              "      current browser session. Please rerun this cell to enable.\n",
              "      </output>\n",
              "      <script src=\"/nbextensions/google.colab/files.js\"></script> "
            ],
            "text/plain": [
              "<IPython.core.display.HTML object>"
            ]
          },
          "metadata": {
            "tags": []
          }
        },
        {
          "output_type": "stream",
          "text": [
            "Saving Restaurants_Train_v2.xml to Restaurants_Train_v2.xml\n"
          ],
          "name": "stdout"
        },
        {
          "output_type": "display_data",
          "data": {
            "text/html": [
              "\n",
              "     <input type=\"file\" id=\"files-5f7c53b8-29ef-4244-b4a6-58df54140636\" name=\"files[]\" multiple disabled />\n",
              "     <output id=\"result-5f7c53b8-29ef-4244-b4a6-58df54140636\">\n",
              "      Upload widget is only available when the cell has been executed in the\n",
              "      current browser session. Please rerun this cell to enable.\n",
              "      </output>\n",
              "      <script src=\"/nbextensions/google.colab/files.js\"></script> "
            ],
            "text/plain": [
              "<IPython.core.display.HTML object>"
            ]
          },
          "metadata": {
            "tags": []
          }
        },
        {
          "output_type": "stream",
          "text": [
            "Saving Restaurants_Test_Gold.xml to Restaurants_Test_Gold.xml\n"
          ],
          "name": "stdout"
        }
      ]
    },
    {
      "cell_type": "markdown",
      "metadata": {
        "id": "FSvfHpbIcQN2",
        "colab_type": "text"
      },
      "source": [
        "No we have the training and test data at the following paths **`./Restaurants_Train_v2.xml`** and **`./Restaurants_Test_Gold.xml`** respectively, we need to parse them from XML format into a List of dictionaries. To do this we are going to use the [Bella](https://github.com/apmoore1/Bella) package:"
      ]
    },
    {
      "cell_type": "code",
      "metadata": {
        "id": "749kOXYqbemL",
        "colab_type": "code",
        "colab": {}
      },
      "source": [
        "# If you are running this locally and have saved the files in a different \n",
        "# location change the file path appropriately\n",
        "train_fp = Path('./Restaurants_Train_v2.xml').resolve()\n",
        "test_fp = Path('./Restaurants_Test_Gold.xml').resolve()\n",
        "\n",
        "train_data = bella.parsers.semeval_14(train_fp).data_dict()\n",
        "test_data = bella.parsers.semeval_14(test_fp).data_dict()\n"
      ],
      "execution_count": 0,
      "outputs": []
    },
    {
      "cell_type": "markdown",
      "metadata": {
        "id": "5yrd6nXEuTEC",
        "colab_type": "text"
      },
      "source": [
        "The point in the [FIESTA paper](https://arxiv.org/pdf/1906.12230.pdf) is that we should take **both** **random seeds** and **data splits** into account if we want to reliably choose the best model^^. Therefore we now need to combine the Train and Test data together. \n",
        "\n",
        "^^(The intital work on random seeds was done by [Reimers and Gurevych, 2017](https://www.aclweb.org/anthology/D17-1035) and taking *data splits* into account was shown necessairy concurrently by the [FIESTA paper](https://arxiv.org/pdf/1906.12230.pdf) and [Gorman and Bedrick, 2019](https://wellformedness.com/papers/gorman-bedrick-2019.pdf))\n",
        "\n",
        "\n",
        "\n",
        "\n"
      ]
    },
    {
      "cell_type": "code",
      "metadata": {
        "id": "q05MFaFJyFEL",
        "colab_type": "code",
        "outputId": "1987dd1a-ec2c-47a3-ae5b-84de22ddb88f",
        "colab": {
          "base_uri": "https://localhost:8080/",
          "height": 68
        }
      },
      "source": [
        "whole_dataset = train_data + test_data\n",
        "print(f'Length of the combined datasets: {len(whole_dataset)}')\n",
        "print(f'Type of the dataset: {type(whole_dataset)}')\n",
        "print(f'Type of the instances within the List: {type(whole_dataset[0])}')"
      ],
      "execution_count": 6,
      "outputs": [
        {
          "output_type": "stream",
          "text": [
            "Length of the combined datasets: 4722\n",
            "Type of the dataset: <class 'list'>\n",
            "Type of the instances within the List: <class 'dict'>\n"
          ],
          "name": "stdout"
        }
      ]
    },
    {
      "cell_type": "markdown",
      "metadata": {
        "id": "ia9icPDhyijI",
        "colab_type": "text"
      },
      "source": [
        "### Splitting the data\n",
        "\n",
        "We also need to create a **data splitting** function that will take in a dataset which is a:\n",
        "```python\n",
        "List[Dict[str, Any]]\n",
        "```\n",
        "Which in our case is the `whole_dataset` and returns two of them:\n",
        "```\n",
        "Tuple[List[Dict[str, Any]], List[Dict[str, Any]]]\n",
        "```\n",
        "\n",
        "Of which this would represent the Train and Test datasets respectively, of which each time we call this **data splitting** function it should return a **random** Train and Test dataset.\n",
        "\n",
        "We have already created this **data splitting** function for you and it can be found at the top of this notebook called **split_data** of which it is hard coded to split that data into 80% Train and 20% Test. Example of how it works below:"
      ]
    },
    {
      "cell_type": "code",
      "metadata": {
        "id": "cmJaG7rwzGIu",
        "colab_type": "code",
        "outputId": "fea3f642-9b0b-41fa-acc4-176716631bd0",
        "colab": {
          "base_uri": "https://localhost:8080/",
          "height": 190
        }
      },
      "source": [
        "train_1, test_1 = split_data(whole_dataset)\n",
        "print(f'Length of train: {len(train_1)}\\nLength of test: {len(test_1)}')\n",
        "print(f\"Train's first instance: {train_1[0]}\")\n",
        "print(f\"Test's first instance: {test_1[0]}\")\n",
        "train_1, test_1 = split_data(whole_dataset)\n",
        "print('\\nSplit again\\n')\n",
        "print(f\"Train's first instance: {train_1[0]}\")\n",
        "print(f\"Test's first instance: {test_1[0]}\")"
      ],
      "execution_count": 7,
      "outputs": [
        {
          "output_type": "stream",
          "text": [
            "Length of train: 3778\n",
            "Length of test: 944\n",
            "Train's first instance: {'spans': [(15, 22)], 'target': 'service', 'text': 'Great friendly service, Fast seating, Fast Delivery, Excellent sushi.', 'sentiment': 1, 'epoch_number': {-1}, 'sentence_id': 'Restaurants_Train_v21034', 'target_id': 'Restaurants_Train_v210340'}\n",
            "Test's first instance: {'spans': [(9, 36)], 'target': 'argentine chorizo appetizer', 'text': 'The lone argentine chorizo appetizer at $8.95 was a heavy fennel flavored Italian sausage like the ones that sell for $2.99/lb at the store.', 'sentiment': -1, 'epoch_number': {-1}, 'sentence_id': 'Restaurants_Test_Gold35886114#1249751#0', 'target_id': 'Restaurants_Test_Gold35886114#1249751#00'}\n",
            "\n",
            "Split again\n",
            "\n",
            "Train's first instance: {'spans': [(0, 26)], 'target': 'Guacamole+shrimp appetizer', 'text': \"Guacamole+shrimp appetizer was really great, we both had the filet, very good, didn't much like the frites that came with, but the filet was so good, neither of us cared.\", 'sentiment': 1, 'epoch_number': {-1}, 'sentence_id': 'Restaurants_Train_v22702', 'target_id': 'Restaurants_Train_v227020'}\n",
            "Test's first instance: {'spans': [(63, 71)], 'target': 'specials', 'text': 'First, the waiter who served us neglected to fill us in on the specials, which I would have chosen had I known about them.', 'sentiment': 1, 'epoch_number': {-1}, 'sentence_id': 'Restaurants_Train_v22932', 'target_id': 'Restaurants_Train_v229321'}\n"
          ],
          "name": "stdout"
        }
      ]
    },
    {
      "cell_type": "markdown",
      "metadata": {
        "id": "f_zKRlrozrlM",
        "colab_type": "text"
      },
      "source": [
        "As we can see when we split the data it does indeed gives us different splits of the data.\n",
        "\n",
        "### Models\n",
        "The next part of this process that we need are the **8 TDSA models** that we are going to evaluate to replicate the [FIESTA paper](https://arxiv.org/pdf/1906.12230.pdf). This process is split into 2 when using [AllenNLP](https://allennlp.org/):\n",
        "1. Getting the model configurations\n",
        "2. Converting the model configurations into functions\n",
        "\n",
        "#### Getting the model configurations\n",
        "Model configurations in essence describe the model that will be created which includes the model architecture, the way to process the data, and how to train the model (for more details on this read this section on [configuration files from AllenNLP](https://github.com/allenai/allennlp/blob/master/tutorials/tagger/README.md#using-config-files) or read all of the [tutorials from AllenNLP](https://github.com/allenai/allennlp/tree/master/tutorials) as they are all really good!)\n",
        "\n",
        "The 8 models and their configuration files: 1. [TDLSTM 300](https://github.com/apmoore1/fiesta/blob/master/allennlp_training_configs/TDSA/tdlstm.jsonnet), 2. [TDLSTM 50](https://github.com/apmoore1/fiesta/blob/master/allennlp_training_configs/TDSA/tdlstm_50.jsonnet), 3. [IAN 300](https://github.com/apmoore1/fiesta/blob/master/allennlp_training_configs/TDSA/ian.jsonnet), 4. [IAN 50](https://github.com/apmoore1/fiesta/blob/master/allennlp_training_configs/TDSA/ian_50.jsonnet), 5. [ATAE 300](https://github.com/apmoore1/fiesta/blob/master/allennlp_training_configs/TDSA/atae.jsonnet), 6. [ATAE 50](https://github.com/apmoore1/fiesta/blob/master/allennlp_training_configs/TDSA/atae_50.jsonnet), 7. [LSTM 300](https://github.com/apmoore1/fiesta/blob/master/allennlp_training_configs/TDSA/lstm.jsonnet), and 8. [LSTM 50](https://github.com/apmoore1/fiesta/blob/master/allennlp_training_configs/TDSA/lstm_50.jsonnet)\n",
        "\n",
        "As you can see we essentially have 4 different model architecture:\n",
        "4. TDLSTM, [paper](https://www.aclweb.org/anthology/C16-1311).\n",
        "2. IAN, [paper](https://www.ijcai.org/proceedings/2017/0568.pdf).\n",
        "1. ATAE, [paper](https://aclweb.org/anthology/D16-1058).\n",
        "3. LSTM, [paper](https://www.aclweb.org/anthology/C16-1311).\n",
        "\n",
        "And 2 different embedding sizes; 300 and 50 both of which are pre-trained [Glove embeddings](https://nlp.stanford.edu/projects/glove/). Lastly the 300 models do use droput at 50% where as the 50 models do not use dropout at all, this was to make the gap in performance between these models larger.\n",
        "\n",
        "The code block next will download all 8 model configuration files. By default they will download to the `/tmp/training_configs` directory, if this directory does not exist it will create it!\n"
      ]
    },
    {
      "cell_type": "code",
      "metadata": {
        "id": "7p6JpE4XhEhF",
        "colab_type": "code",
        "outputId": "52f35c3b-6148-4355-bf13-c27ecb153fa4",
        "colab": {
          "base_uri": "https://localhost:8080/",
          "height": 51
        }
      },
      "source": [
        "# Create a folder to store all of the model training configs\n",
        "training_config_folder = Path('/tmp', 'training_configs').resolve()\n",
        "training_config_folder.mkdir(parents=True, exist_ok=True)\n",
        "# Download the 8 model config files\n",
        "model_names, model_configs_fp = download_model_configs(training_config_folder)\n",
        "print(f\"Model: `{model_names[0]}` and the location to it's config file:\\n\"\n",
        "      f\"{model_configs_fp[0]}\")"
      ],
      "execution_count": 8,
      "outputs": [
        {
          "output_type": "stream",
          "text": [
            "Model: `atae` and the location to it's config file:\n",
            "/tmp/training_configs/atae.jsonnet\n"
          ],
          "name": "stdout"
        }
      ]
    },
    {
      "cell_type": "markdown",
      "metadata": {
        "id": "A4_cmjeDC4Hq",
        "colab_type": "text"
      },
      "source": [
        "#### Model functions\n",
        "We now have a list of model configuration files paths (`model_configs`) and the names (`model_names`) associated to those configuration file paths.\n",
        "\n",
        "Next we will convert these model configurations into model functions using the following function (`allennlp_model_function`):"
      ]
    },
    {
      "cell_type": "code",
      "metadata": {
        "id": "5P2bITHIDdxK",
        "colab_type": "code",
        "colab": {}
      },
      "source": [
        "def allennlp_model_function(training_config: Path, \n",
        "                            split_function: Callable[[List[Dict[str, Any]]], \n",
        "                                                     Tuple[List[Dict[str, Any]], \n",
        "                                                           List[Dict[str, Any]]]],\n",
        "                            eval_metric: str,\n",
        "                            cuda_device: Optional[int] = None\n",
        "                            ) -> Callable[[List[Dict[str, Any]], \n",
        "                                           List[Dict[str, Any]]], float]:\n",
        "  '''\n",
        "  :params training_config: File path to a config file that describes the \n",
        "                           model\n",
        "  :params split_function: A function that takes as input a dataset and splits it \n",
        "                          into a train and test datasets\n",
        "  :params eval_metric: The name of the evaluation metric that the model is to be\n",
        "                       evaluated on e.g. `accuracy`\n",
        "  :params cuda_device: If given this will overwrite the cuda device that it \n",
        "                       within the training config file. -1 == CPU\n",
        "  :returns: A function that takes as input a train and test split and returns \n",
        "            a metric score based on the model training on the train data \n",
        "            and evaluating on the test data where the model is defined by the \n",
        "            `training_config`. The training data is further split into \n",
        "            training and development data by the `split_function` this is \n",
        "            so early stopping can be applied\n",
        "  '''\n",
        "  def model_function(train: List[Dict[str, Any]], \n",
        "                     test: List[Dict[str, Any]]) -> float:\n",
        "    # Create the development data from the training data\n",
        "    train, dev = split_function(train)\n",
        "    # Create the model parameters from the training config\n",
        "    params = Params.from_file(training_config)\n",
        "    if cuda_device is not None:\n",
        "      params['trainer']['cuda_device'] = cuda_device\n",
        "    # Create a temporary directory for the training procedure to store useful \n",
        "    # files while training etc.\n",
        "    with tempfile.TemporaryDirectory() as temp_dir:\n",
        "      model_temp_dir_path = Path(temp_dir)\n",
        "      # Add the training, development and test data to the model parameters\n",
        "      add_data_to_params(train, dev, test, model_temp_dir_path, params)\n",
        "      # Create and train the model\n",
        "      pieces = TrainerPieces.from_params(params, temp_dir)\n",
        "      trainer = Trainer.from_params(pieces.model, temp_dir, \n",
        "                                    pieces.iterator, \n",
        "                                    pieces.train_dataset,\n",
        "                                    pieces.validation_dataset,\n",
        "                                    pieces.params, \n",
        "                                    pieces.validation_iterator)\n",
        "      metrics = trainer.train()\n",
        "      # evaluate the model on the test dataset\n",
        "      evaluation_iter = pieces.validation_iterator or pieces.iterator\n",
        "      evaluation_dataset = pieces.test_dataset\n",
        "      test_metrics = evaluate(trainer.model, evaluation_dataset, evaluation_iter,\n",
        "                              cuda_device=trainer._cuda_devices[0], \n",
        "                              batch_weight_key=\"\")\n",
        "      # Test metric we are interested denoted by `eval_metric` String\n",
        "      return test_metrics[eval_metric]\n",
        "    \n",
        "  return model_function"
      ],
      "execution_count": 0,
      "outputs": []
    },
    {
      "cell_type": "markdown",
      "metadata": {
        "id": "Gtz8A6wvDmSD",
        "colab_type": "text"
      },
      "source": [
        "This takes as input:\n",
        "1. The model configuration file path\n",
        "2. The data splitting function that we created earlier\n",
        "3. The name of the evaluation metric that we would like to evaluate our models on\n",
        "4. The device we want to run the models on (-1 for CPU and 0 for GPU)\n",
        "\n",
        "Returns:\n",
        "1. A function: that takes as input a random train and test split (created from the data splitting function that we created earlier) and returns an evaluation metric score from the test data.\n",
        "\n",
        "Below shows how we have created the 8 model functions by using this `allennlp_model_function` function. The Evaluation metric we are interested in is `Macro_F1` and as we are running this on the Google Colab with GPU enabled the cuda device is `0`.\n",
        "\n",
        "**Side Note** You might be wondering why we need the data splitting function as input to create the model function when the function itself takes a random train and test split. These models that we are creating actually need Train, **Development**, and Test splits as the models use the development split for early stopping. Therefore we need the data splitting function to split the training data further into a NEW train and development split."
      ]
    },
    {
      "cell_type": "code",
      "metadata": {
        "id": "oZknpcR3FJAK",
        "colab_type": "code",
        "colab": {}
      },
      "source": [
        "all_model_functions = []\n",
        "for model_config_fp in model_configs_fp:\n",
        "  model_function = allennlp_model_function(model_config_fp, split_data, \n",
        "                                           eval_metric='Macro_F1', \n",
        "                                           cuda_device=0)\n",
        "  all_model_functions.append(model_function)"
      ],
      "execution_count": 0,
      "outputs": []
    },
    {
      "cell_type": "markdown",
      "metadata": {
        "id": "HaDIIW_dFvVv",
        "colab_type": "text"
      },
      "source": [
        "Just to show how these model functions work an example of using one is below:"
      ]
    },
    {
      "cell_type": "code",
      "metadata": {
        "id": "eVQ8Wd7iF3p8",
        "colab_type": "code",
        "outputId": "965af0a3-1d54-407c-f6bb-c54cbaca15d6",
        "colab": {
          "base_uri": "https://localhost:8080/",
          "height": 34
        }
      },
      "source": [
        "%%timeit -n 1 -r 1\n",
        "%%capture\n",
        "temp_model_name = model_names[0]\n",
        "temp_model_function = all_model_functions[0]\n",
        "temp_train, temp_test = split_data(whole_dataset)\n",
        "temp_score = temp_model_function(temp_train, temp_test)"
      ],
      "execution_count": 11,
      "outputs": [
        {
          "output_type": "stream",
          "text": [
            "29 s ± 0 ns per loop (mean ± std. dev. of 1 run, 1 loop each)\n"
          ],
          "name": "stdout"
        }
      ]
    },
    {
      "cell_type": "code",
      "metadata": {
        "id": "Uj-7VwvHHgcJ",
        "colab_type": "code",
        "outputId": "236863b4-e2a4-49f7-ec6d-d25f62168ccb",
        "colab": {
          "base_uri": "https://localhost:8080/",
          "height": 34
        }
      },
      "source": [
        "print(f'A single score from the {temp_model_name} function: {temp_score:.3f}')"
      ],
      "execution_count": 12,
      "outputs": [
        {
          "output_type": "stream",
          "text": [
            "A single score from the atae function: 0.657\n"
          ],
          "name": "stdout"
        }
      ]
    },
    {
      "cell_type": "markdown",
      "metadata": {
        "id": "A_bzAn2eKKUN",
        "colab_type": "text"
      },
      "source": [
        "## Fixed Confidence (FC)\n",
        "Here as the name suggests we want to find the best model where we are at least $x$ confident. Or another way of stating that we want to find the best model with a $\\text{p value} < (1 - x)$. In both of these case we want to take into account both **random seeds** and **different data splits**\n",
        "\n",
        "To do this we have two option within the FIESTA package for FC:\n",
        "1. [`fiesta.TTTS`](https://apmoore1.github.io/fiesta/api/fiesta.TTTS.html) - This is the adaptive method which chooses the next method to evaluate based on that methods likelihood of being the best method, it does this until it finds the best method given the confidence constriant.\n",
        "2. [`fiesta.non_adaptive_fc`](https://apmoore1.github.io/fiesta/api/fiesta.non_adaptive_fc.html) - This is the more \"standard\" approach which is non-adaptive as it evaluates each method any equal amount of time until it finds the best method given the confidence constriant.\n",
        "\n",
        "For more details about these methods read the [FIESTA paper](https://arxiv.org/pdf/1906.12230.pdf) or for a shorter description the functions documentation.\n",
        "\n",
        "As it has been shown in the [FIESTA paper](https://arxiv.org/pdf/1906.12230.pdf) the TTTS approach is faster as in requires far fewer model evaluations, thus it is the method we will demonstrate below. \n",
        "\n",
        "In the code block below we give the `TTTS` function: \n",
        "1. The whole dataset\n",
        "2 .The model functions\n",
        "3. How to split the data. \n",
        "4. The p-value \n",
        "\n",
        "In this case we want a p-value less than 0.2 so that we are at least 80% confident that the model it has found to be the best is the best model taking into account both random seeds of the models and different data splits of the entire dataset.\n",
        "\n",
        "**We note** that a p-value of 0.2 is high and not normally used but given that the notebook will stop after 2 hours on Colab, and Jupyter notebooks seem to not handle GPU memory very well we are only using 0.2 so that fewer model evaluations are required."
      ]
    },
    {
      "cell_type": "code",
      "metadata": {
        "id": "ISUWgseax2I5",
        "colab_type": "code",
        "outputId": "dc87c850-784e-408c-ae53-c3ed5a565e5c",
        "colab": {
          "base_uri": "https://localhost:8080/",
          "height": 34
        }
      },
      "source": [
        "%%timeit -n 1 -r 1\n",
        "%%capture\n",
        "fc_results = fiesta.TTTS(whole_dataset, all_model_functions, split_data, \n",
        "                         p_value=0.2)\n",
        "model_confidence_scores = fc_results[0]\n",
        "fc_number_times_each_model_evaluated = fc_results[1]\n",
        "total_number_model_evaluations = fc_results[2]\n",
        "fc_model_evaluation_scores = fc_results[3]"
      ],
      "execution_count": 21,
      "outputs": [
        {
          "output_type": "stream",
          "text": [
            "51min 7s ± 0 ns per loop (mean ± std. dev. of 1 run, 1 loop each)\n"
          ],
          "name": "stdout"
        }
      ]
    },
    {
      "cell_type": "code",
      "metadata": {
        "id": "kFMHGLiSQCyc",
        "colab_type": "code",
        "colab": {}
      },
      "source": [
        "# Needed for the notebook to release CUDA memory\n",
        "torch.cuda.empty_cache()"
      ],
      "execution_count": 0,
      "outputs": []
    },
    {
      "cell_type": "markdown",
      "metadata": {
        "id": "wYYXbUnJ9dp1",
        "colab_type": "text"
      },
      "source": [
        "The `TTTS` function outputs a lot of interesting results such as the confidence of each model being the best model:"
      ]
    },
    {
      "cell_type": "code",
      "metadata": {
        "id": "oDYbxrPH9wMP",
        "colab_type": "code",
        "colab": {
          "base_uri": "https://localhost:8080/",
          "height": 153
        },
        "outputId": "a72d8e58-b6ac-4224-bb57-cc5f03bc959d"
      },
      "source": [
        "model_names_conf = sorted(zip(model_names, model_confidence_scores),\n",
        "                          key=lambda x: x[1], reverse=True)\n",
        "for model_name, model_confidence in model_names_conf:\n",
        "  print(f'Model: {model_name}, Confidence {model_confidence}')"
      ],
      "execution_count": 30,
      "outputs": [
        {
          "output_type": "stream",
          "text": [
            "Model: tdlstm, Confidence 0.8105225\n",
            "Model: atae, Confidence 0.1209075\n",
            "Model: ian, Confidence 0.02653125\n",
            "Model: lstm, Confidence 0.0191025\n",
            "Model: atae_50, Confidence 0.0083675\n",
            "Model: ian_50, Confidence 0.00646125\n",
            "Model: lstm_50, Confidence 0.00497375\n",
            "Model: tdlstm_50, Confidence 0.00313375\n"
          ],
          "name": "stdout"
        }
      ]
    },
    {
      "cell_type": "markdown",
      "metadata": {
        "id": "cun-VZjc-DBe",
        "colab_type": "text"
      },
      "source": [
        "As we can see the model that it is most confident about is the TDLSTM model with 300 dimension embedding which as shown in the [FIESTA paper](https://arxiv.org/pdf/1906.12230.pdf) is the best model.\n",
        "\n",
        "We can also find the number of times each model has been evaluated, as well as the total number of evaluations:"
      ]
    },
    {
      "cell_type": "code",
      "metadata": {
        "id": "8A3tWkTV-urW",
        "colab_type": "code",
        "colab": {
          "base_uri": "https://localhost:8080/",
          "height": 187
        },
        "outputId": "f5461870-6e97-450c-e7cb-fa9d7d5fdab6"
      },
      "source": [
        "model_names_evals = sorted(zip(model_names, fc_number_times_each_model_evaluated),\n",
        "                           key=lambda x: x[1], reverse=True)\n",
        "\n",
        "print(f'Total Number of evaluations: {total_number_model_evaluations}\\n')\n",
        "\n",
        "for model_name, number_evals in model_names_evals:\n",
        "  number_evals *= total_number_model_evaluations\n",
        "  print(f'Model: {model_name}, Number of times evaluated/ran: {number_evals}')"
      ],
      "execution_count": 35,
      "outputs": [
        {
          "output_type": "stream",
          "text": [
            "Total Number of evaluations: 99\n",
            "\n",
            "Model: tdlstm, Number of times evaluated/ran: 40.0\n",
            "Model: atae, Number of times evaluated/ran: 19.0\n",
            "Model: ian_50, Number of times evaluated/ran: 8.0\n",
            "Model: lstm, Number of times evaluated/ran: 8.0\n",
            "Model: atae_50, Number of times evaluated/ran: 7.0\n",
            "Model: ian, Number of times evaluated/ran: 6.0\n",
            "Model: tdlstm_50, Number of times evaluated/ran: 6.0\n",
            "Model: lstm_50, Number of times evaluated/ran: 5.0\n"
          ],
          "name": "stdout"
        }
      ]
    },
    {
      "cell_type": "markdown",
      "metadata": {
        "id": "KnAShrJK_S1l",
        "colab_type": "text"
      },
      "source": [
        "As we can see the two models that we are most confident about have been evaluated the most as these models are more likely to be the best model.\n",
        "\n",
        "\n",
        "Finally it returns each models evaluation scores from each run/evaluation:"
      ]
    },
    {
      "cell_type": "code",
      "metadata": {
        "id": "ZWbgZfeQ_2YN",
        "colab_type": "code",
        "colab": {
          "base_uri": "https://localhost:8080/",
          "height": 460
        },
        "outputId": "1f46265c-49d0-4623-b65c-088cf0c1154d"
      },
      "source": [
        "fc_df_data = defaultdict(list)\n",
        "for model_name, eval_scores in zip(model_names, fc_model_evaluation_scores):\n",
        "  for eval_score in eval_scores:\n",
        "    fc_df_data['Model'].append(model_name)\n",
        "    fc_df_data['Macro F1'].append(eval_score)\n",
        "df_data = pd.DataFrame(fc_df_data)\n",
        "fig, ax = plt.subplots(figsize=(10,7))\n",
        "ax = sns.violinplot(x=\"Model\", y=\"Macro F1\", data=fc_df_data ,inner=\"stick\")\n",
        "ax.set_xlabel('Model')\n",
        "ax.set_ylabel('Macro F1')"
      ],
      "execution_count": 44,
      "outputs": [
        {
          "output_type": "execute_result",
          "data": {
            "text/plain": [
              "Text(0, 0.5, 'Macro F1')"
            ]
          },
          "metadata": {
            "tags": []
          },
          "execution_count": 44
        },
        {
          "output_type": "display_data",
          "data": {
            "text/plain": [
              "<Figure size 720x504 with 1 Axes>"
            ],
            "image/png": "[encoded data removed]"
          },
          "metadata": {
            "tags": [],
            "needs_background": "light"
          }
        }
      ]
    },
    {
      "cell_type": "markdown",
      "metadata": {
        "id": "0qfoZN0QBzqU",
        "colab_type": "text"
      },
      "source": [
        "## Fixed Budget (FB)\n",
        "\n",
        "In this case we want to find the best model form a set of models $N$ given a budget of $T$ model evaluations/runs. Unlike the FC methods we cannot guarantee a confidence on the best model being the best model.\n",
        "\n",
        "To do this we have two option within the FIESTA package for FB:\n",
        "1. [`fiesta.sequential_halving`](https://apmoore1.github.io/fiesta/api/fiesta.sequential_halving.html) - This is the adaptive method which breaks the problem down into several rounds where at each round each model is evaluated a set number of times based on budget, number of models in the round, and the total number of models. After each round the worse performing models are dropped. The best model is the model that gets to the last round. At each round the models are evaluated more often thus the better models should be evaluated more.\n",
        "2. [`fiesta.non_adaptive_fb`](https://apmoore1.github.io/fiesta/api/fiesta.sequential_halving.html) - This is the more \"standard\" approach which is non-adaptive as each round it evaluates each model $\\lfloor T/N \\rfloor$ times. After which the best model is the model with the highest mean score. Compared to Sequential Halving this treats each model fairly therefore does not evaluate more promising/better models more.\n",
        "\n",
        "For more details about these methods read the [FIESTA paper](https://arxiv.org/pdf/1906.12230.pdf) or for a shorter description the functions documentation.\n",
        "\n",
        "As it has been shown in the [FIESTA paper](https://arxiv.org/pdf/1906.12230.pdf) the Sequential Halving approach is better as it is more likely to choose the best model given the budget constriant. \n",
        "\n",
        "In the code block below we give the `sequential_halving` function: \n",
        "1. The whole dataset\n",
        "2 .The model functions\n",
        "3. How to split the data. \n",
        "4. The budget\n",
        "\n",
        "In this case the budget is 32."
      ]
    },
    {
      "cell_type": "code",
      "metadata": {
        "id": "PrCWSRyFQY_7",
        "colab_type": "code",
        "colab": {
          "base_uri": "https://localhost:8080/",
          "height": 34
        },
        "outputId": "176aae45-7f72-476d-ab43-7bba74674f85"
      },
      "source": [
        "%%timeit -n 1 -r 1\n",
        "%%capture\n",
        "fb_results = fiesta.sequential_halving(whole_dataset, all_model_functions,\n",
        "                                       split_data, budget=32)\n",
        "best_model_index = fb_results[0]\n",
        "fb_number_times_each_model_evaluated = fb_results[1]\n",
        "fb_model_evaluation_scores = fb_results[2]"
      ],
      "execution_count": 23,
      "outputs": [
        {
          "output_type": "stream",
          "text": [
            "15min 33s ± 0 ns per loop (mean ± std. dev. of 1 run, 1 loop each)\n"
          ],
          "name": "stdout"
        }
      ]
    },
    {
      "cell_type": "code",
      "metadata": {
        "id": "TC0Z0vguQZHE",
        "colab_type": "code",
        "colab": {
          "base_uri": "https://localhost:8080/",
          "height": 34
        },
        "outputId": "b97a1868-8059-41bf-c995-69f58fd62f12"
      },
      "source": [
        "# Needed for the notebook to release CUDA memory\n",
        "torch.cuda.empty_cache()\n",
        "\n",
        "print(f'Best model: {model_names[best_model_index]}')"
      ],
      "execution_count": 46,
      "outputs": [
        {
          "output_type": "stream",
          "text": [
            "Best model: tdlstm\n"
          ],
          "name": "stdout"
        }
      ]
    },
    {
      "cell_type": "markdown",
      "metadata": {
        "id": "TQq3p--WKKep",
        "colab_type": "text"
      },
      "source": [
        "Sequential Halving found the best model to be TDLSTM with 300 dimension embedding which as we know from the [FIESTA paper ](https://arxiv.org/pdf/1906.12230.pdf) is the best model.\n",
        "\n",
        "Further more we can see the proportion of the evaluations that were given to each model:"
      ]
    },
    {
      "cell_type": "code",
      "metadata": {
        "id": "tbJhAs0JYcxC",
        "colab_type": "code",
        "colab": {
          "base_uri": "https://localhost:8080/",
          "height": 153
        },
        "outputId": "c0cc48b2-2c72-4f2f-beab-67bd21fc60f2"
      },
      "source": [
        "name_proportion = sorted(zip(model_names, fb_number_times_each_model_evaluated),\n",
        "                             key=lambda x: x[1], reverse=True)\n",
        "for model_name, eval_proportion in name_proportion:\n",
        "  print(f'Model: {model_name}, proportion of evaluations: {eval_proportion}')"
      ],
      "execution_count": 51,
      "outputs": [
        {
          "output_type": "stream",
          "text": [
            "Model: ian, proportion of evaluations: 0.3076923076923077\n",
            "Model: tdlstm, proportion of evaluations: 0.3076923076923077\n",
            "Model: ian_50, proportion of evaluations: 0.11538461538461539\n",
            "Model: tdlstm_50, proportion of evaluations: 0.11538461538461539\n",
            "Model: atae, proportion of evaluations: 0.038461538461538464\n",
            "Model: atae_50, proportion of evaluations: 0.038461538461538464\n",
            "Model: lstm, proportion of evaluations: 0.038461538461538464\n",
            "Model: lstm_50, proportion of evaluations: 0.038461538461538464\n"
          ],
          "name": "stdout"
        }
      ]
    },
    {
      "cell_type": "markdown",
      "metadata": {
        "id": "TgfTkQJeZmsx",
        "colab_type": "text"
      },
      "source": [
        "As we can see the last two models where IAN and TDLSTM.\n",
        "\n",
        "Lastly like the FC methods we can get each models evaluation scores from each run/evaluation:"
      ]
    },
    {
      "cell_type": "code",
      "metadata": {
        "id": "U5LgQA3mZ_Eu",
        "colab_type": "code",
        "colab": {
          "base_uri": "https://localhost:8080/",
          "height": 460
        },
        "outputId": "4ff0d8c5-6390-4cfc-82a2-a43a81d27869"
      },
      "source": [
        "fb_df_data = defaultdict(list)\n",
        "for model_name, eval_scores in zip(model_names, fb_model_evaluation_scores):\n",
        "  for eval_score in eval_scores:\n",
        "    fb_df_data['Model'].append(model_name)\n",
        "    fb_df_data['Macro F1'].append(eval_score)\n",
        "fb_df_data = pd.DataFrame(fb_df_data)\n",
        "fig, ax = plt.subplots(figsize=(10,7))\n",
        "ax = sns.violinplot(x=\"Model\", y=\"Macro F1\", data=fb_df_data ,inner=\"stick\")\n",
        "ax.set_xlabel('Model')\n",
        "ax.set_ylabel('Macro F1')"
      ],
      "execution_count": 52,
      "outputs": [
        {
          "output_type": "execute_result",
          "data": {
            "text/plain": [
              "Text(0, 0.5, 'Macro F1')"
            ]
          },
          "metadata": {
            "tags": []
          },
          "execution_count": 52
        },
        {
          "output_type": "display_data",
          "data": {
            "text/plain": [
              "<Figure size 720x504 with 1 Axes>"
            ],
            "image/png": "[encoded data removed]"
          },
          "metadata": {
            "tags": [],
            "needs_background": "light"
          }
        }
      ]
    }
  ]
}