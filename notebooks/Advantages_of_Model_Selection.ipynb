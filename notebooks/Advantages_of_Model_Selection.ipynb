{
  "nbformat": 4,
  "nbformat_minor": 0,
  "metadata": {
    "colab": {
      "name": "Advantages of Model Selection.ipynb",
      "version": "0.3.2",
      "provenance": [],
      "collapsed_sections": [],
      "include_colab_link": true
    },
    "kernelspec": {
      "name": "python3",
      "display_name": "Python 3"
    }
  },
  "cells": [
    {
      "cell_type": "markdown",
      "metadata": {
        "id": "view-in-github",
        "colab_type": "text"
      },
      "source": [
        "<a href=\"https://colab.research.google.com/github/apmoore1/fiesta/blob/master/notebooks/Advantages_of_Model_Selection.ipynb\" target=\"_parent\"><img src=\"https://colab.research.google.com/assets/colab-badge.svg\" alt=\"Open In Colab\"/></a>"
      ]
    },
    {
      "cell_type": "code",
      "metadata": {
        "id": "WCMg5FJXDJdf",
        "colab_type": "code",
        "colab": {}
      },
      "source": [
        "%%capture\n",
        "!pip install git+git://github.com/apmoore1/fiesta.git@master#egg=fiesta-nlp\n",
        "!pip install seaborn\n",
        "!pip install pandas"
      ],
      "execution_count": 0,
      "outputs": []
    },
    {
      "cell_type": "code",
      "metadata": {
        "id": "RIU5dSdqESaj",
        "colab_type": "code",
        "colab": {}
      },
      "source": [
        "from typing import Dict, List, Callable, Tuple, Any\n",
        "from itertools import product\n",
        "import random\n",
        "\n",
        "import fiesta\n",
        "import seaborn as sns\n",
        "import pandas as pd\n",
        "from matplotlib import pyplot\n",
        "import numpy as np\n",
        "import requests"
      ],
      "execution_count": 0,
      "outputs": []
    },
    {
      "cell_type": "code",
      "metadata": {
        "id": "ON0byMGsErWl",
        "colab_type": "code",
        "colab": {}
      },
      "source": [
        "def get_data() -> Dict[str, float]:\n",
        "  '''\n",
        "  :returns: The F1 scores for each of the TDSA models, where the key of the \n",
        "            dictionary are the model names and the values their 500 F1 scores \n",
        "            that have come from different random seeds and data splits.\n",
        "  '''\n",
        "  data_url = 'https://raw.githubusercontent.com/apmoore1/fiesta/master/'\\\n",
        "             'results/TDSA/test_f1.json'\n",
        "  return requests.get(data_url).json()\n",
        "\n",
        "def seaborn_violin_plot(tdsa_data: Dict[str, float]) -> None:\n",
        "  '''\n",
        "  Converts the tdsa_data into long format and puts it into a \n",
        "  DataFrame where the `Model` column contains the model name and the \n",
        "  `Macro F1` column contains a single Macro F1 score for that Model.\n",
        "  Then using this DataFrame plots a violin plot.\n",
        "            \n",
        "  :param tdsa_data: The data that is returned from `get_data` function\n",
        "  '''\n",
        "  # Load the data into a DataFrame in long format\n",
        "  model_names = []\n",
        "  all_f1_scores = []\n",
        "  for model_name, model_f1_scores in tdsa_data.items():\n",
        "    model_name = model_name.upper()\n",
        "    if '_' in model_name:\n",
        "      split_name = model_name.split('_')\n",
        "      model_name = 'D\\n'.join([split_name[1], split_name[0]])\n",
        "    else:\n",
        "      model_name = f'300D\\n{model_name}'\n",
        "    for f1_score in model_f1_scores:\n",
        "      model_names.append(model_name)\n",
        "      all_f1_scores.append(f1_score)\n",
        "  tdsa_sns_df = pd.DataFrame({'Model': model_names, \n",
        "                              'Macro F1': all_f1_scores})\n",
        "  \n",
        "  # Get the plotting order so that they are in the following model order and \n",
        "  # 300 dimension Glove models come before the 50 dimension Glove models\n",
        "  model_names = ['TDLSTM', 'IAN', 'ATAE', 'LSTM']\n",
        "  dims = ['300D\\n', '50D\\n']\n",
        "  plot_order = product(dims, model_names)\n",
        "  plot_order = [f'{dim}{model_name}' for dim, model_name in plot_order]\n",
        "  \n",
        "  # Plot the data in a violin plot\n",
        "  sns.violinplot(x='Model', y='Macro F1', data=tdsa_sns_df, inner=\"quartiles\",\n",
        "                 order=plot_order)"
      ],
      "execution_count": 0,
      "outputs": []
    },
    {
      "cell_type": "code",
      "metadata": {
        "id": "_CkA3s_AUjsr",
        "colab_type": "code",
        "colab": {}
      },
      "source": [
        "def model_generator(model_scores: List[float]\n",
        "                    ) -> Callable[[List[Dict[str, Any]], List[Dict[str, Any]]], \n",
        "                                  float]:\n",
        "  '''\n",
        "  :param model_scores: A list of model scores from difference model evaluations\n",
        "  :returns: A function that accepts dummy Tuple of List data and returns a \n",
        "            randomly chosen score from the list of model scores given as an \n",
        "            argument\n",
        "  '''\n",
        "  def _model_function(dummy_data_1: List[Dict[str, Any]],\n",
        "                      dummy_data_2: List[Dict[str, Any]]) -> float:\n",
        "    return random.choice(model_scores)\n",
        "  return _model_function\n",
        "\n",
        "def dummy_split_function(data: List[Dict[str, Any]]\n",
        "                         ) -> Tuple[List[Dict[str, Any]], List[Dict[str, Any]]]:\n",
        "  return ([{'nothing': 1}], [{'nothing': 3}])\n",
        "\n",
        "def fb_probability_plot(func_budget_correct: Dict[str, Dict[int, float]]\n",
        "                        ) -> None:\n",
        "  '''\n",
        "  Given a dictionary that contains \n",
        "  {`function name`: {`budget value`: `probability correct`}}\n",
        "  it will plot the budget on the X axis, the probability that the Fixed budget \n",
        "  function will find the best model with that budget on the Y axis, and the \n",
        "  colour will denote the Fixed Budget function used.\n",
        "  '''\n",
        "  fb_func_names: List[str] = []\n",
        "  budgets: List[int] = []\n",
        "  correct_probabilities: List[float] = []\n",
        "  for fb_func_name, budget_correct in func_budget_correct.items():\n",
        "    for budget, correct_probability in budget_correct.items():\n",
        "      fb_func_names.append(fb_func_name)\n",
        "      budgets.append(budget)\n",
        "      correct_probabilities.append(correct_probability)\n",
        "  \n",
        "  fb_prop_data = {'Budget': budgets, 'FB function names': fb_func_names,\n",
        "                  'Probability of selecting optimal': correct_probabilities}\n",
        "  fb_prop_data = pd.DataFrame(fb_prop_data)\n",
        "  fig, ax = pyplot.subplots(figsize=(10, 7.5))\n",
        "  g = sns.barplot(x=\"Budget\", y=\"Probability of selecting optimal\", \n",
        "                  hue='FB function names', data=fb_prop_data, ci=None,\n",
        "                  estimator=np.sum, ax=ax)\n",
        "  g.set(ylim=(0.6, None))"
      ],
      "execution_count": 0,
      "outputs": []
    },
    {
      "cell_type": "markdown",
      "metadata": {
        "id": "cTCq_PU0Grh0",
        "colab_type": "text"
      },
      "source": [
        "# The advantages of better model selection algorthims.\n",
        "\n",
        "In this notebook we will show you the speed benenfit with regards to the number of model evlautions required to find the best model given either a fixed budget of **T** evaluation or confidence level e.g. p value of 0.05.\n",
        "\n",
        "Currently the way the majority of NLP papers would tackle the problem of model evaluation is by running each model **K** times until they find a model that is better than the rest given some p value e.g. 0.05. This type of method we call *non adaptive* as it evlautes all models equally and even when you know after 2, 3, 4,  etc evluations some models are more likely to be the best model.\n",
        "\n",
        "Instead we will show in this notebook that by treating model evaluation as a multi arm bandit problem, where each arm represents a different model to evaluate we can find the best model in fewer evaluations than the current *non adaptive* approaches. \n",
        "\n",
        "We break the problem of model evaluation into Fixed Budget (FB) and Fixed Confidence (FC) where each has a different constriant. FB constrains on the number of evaluations that can be made where an evaluation is a model running once producing a metric score e.g. Accuracy. FC constrains on finding the best model with a p value less than *p*. In both cases we will show that our *adaptive* multi arm bandit approachs outperform with regards to the number of model evlautions than the standard *no adaptive approaches*. We will show the affectivness of our approach on the Target Dependent Sentiment Analsysis (TDSA) task.\n",
        "\n",
        "\n",
        "\n",
        "The notebook is broken down into the following sections:\n",
        "1. Outline of the TDSA task, models, the results already pre-computed\n",
        "2. Fixed Constriant problem\n",
        "3. Fixed Budget problem\n",
        "\n",
        "## Outline of the TDSA task\n",
        "Target Dependent Sentiment Anlysis is the task of predict the sentiment of a target within a sentence. The main difference between this and document/sentence level sentiment analysis is that within a sentence there can be multiple targets with different sentiments e.g.\n",
        "\n",
        "`The laptop was great but the battery life was awful`\n",
        "\n",
        "Within this example sentence the target `laptop` would be positive where as the target `battery life` would be negative.\n",
        "\n",
        "### Data\n",
        "\n",
        "We used the well known [SemEval 2014 task 4 Restaurant dataset](https://aclweb.org/anthology/papers/S/S14/S14-2004/)\n",
        "\n",
        "### Models\n",
        "\n",
        "We use 4 different model archtectures of which each but the last were state of the art at the time they were published:\n",
        "1. [ATAE](https://www.aclweb.org/anthology/D16-1058) (Target word embedding concat onto each words embedding and then put through a LSTM and then attention)\n",
        "2. [IAN](https://www.ijcai.org/proceedings/2017/0568.pdf) (Interactive Attention Network)\n",
        "3. [TDLSTM](https://aclweb.org/anthology/papers/C/C16/C16-1311/) (Two LSTMs one going forward from the left most word upto the the target and another going backward from the right most word to the target word)\n",
        "4. LSTM (baseline standard LSTM over the sentence text without taking the target into account)\n",
        "\n",
        "We then created 8 different models from these 4 by using two different word embeddings \n",
        "1. [Glove](https://nlp.stanford.edu/projects/glove/) 300D 840B token \n",
        "2. [Glove](https://nlp.stanford.edu/projects/glove/) 50D 6B token.\n",
        "\n",
        "### Results\n",
        "\n",
        "We have evaluated each of these 8 models 500 times using a 100 different train, development, and test splits and a different random seed for each of these evaluations. The evaluation metric used was Macro F1 and the results from these evaluations can be seen below:"
      ]
    },
    {
      "cell_type": "code",
      "metadata": {
        "id": "zB7o27Ge95zp",
        "colab_type": "code",
        "outputId": "e8ab39be-b771-43d9-c395-00864b307a28",
        "colab": {
          "base_uri": "https://localhost:8080/",
          "height": 294
        }
      },
      "source": [
        "tdsa_f1_results = get_data()\n",
        "seaborn_violin_plot(tdsa_f1_results)"
      ],
      "execution_count": 20,
      "outputs": [
        {
          "output_type": "display_data",
          "data": {
            "image/png": "[encoded data removed]",
            "text/plain": [
              "<Figure size 432x288 with 1 Axes>"
            ]
          },
          "metadata": {
            "tags": []
          }
        }
      ]
    },
    {
      "cell_type": "markdown",
      "metadata": {
        "id": "oOPQD9sqSZNi",
        "colab_type": "text"
      },
      "source": [
        "As we can see the best model is the TDLSTM with 300 Dimension Glove vectors. However we can also see that IAN and ATAE are very close to the performance of the best model thus making it hard to find best model problem.\n",
        "\n",
        "## FC\n",
        "Here given these 8 models we want to find the best model with 95% confidence (p value 0.05). First we need to create model functions for each of the model's where these model function when called will randomly return an evaluation results (F1 score) from the models 500 evlautions."
      ]
    },
    {
      "cell_type": "code",
      "metadata": {
        "id": "0stWBxo13BGj",
        "colab_type": "code",
        "outputId": "dd7e5483-2b87-450b-bf15-236b26a8b3b8",
        "colab": {
          "base_uri": "https://localhost:8080/",
          "height": 34
        }
      },
      "source": [
        "model_names: List[str] = []\n",
        "model_f1_scores: List[float] = []\n",
        "for model_name, model_scores in tdsa_f1_results.items():\n",
        "  model_names.append(model_name)\n",
        "  model_f1_scores.append(model_scores)\n",
        "\n",
        "# Model functions\n",
        "model_functions = [model_generator(model_scores) \n",
        "                   for model_scores in model_f1_scores] \n",
        "print(f'Model Names: {\", \".join(model_names)}')"
      ],
      "execution_count": 21,
      "outputs": [
        {
          "output_type": "stream",
          "text": [
            "Model Names: atae, atae_50, ian, ian_50, lstm, lstm_50, tdlstm, tdlstm_50\n"
          ],
          "name": "stdout"
        }
      ]
    },
    {
      "cell_type": "markdown",
      "metadata": {
        "id": "TczV9AdtePQe",
        "colab_type": "text"
      },
      "source": [
        "Now we will show how many evaluations it takes for the standard non-adaptive apporach to find the best model with 95% confidence:"
      ]
    },
    {
      "cell_type": "code",
      "metadata": {
        "id": "SGoO4eT33J2d",
        "colab_type": "code",
        "outputId": "231cb8fa-5531-454e-95e7-9776a52cd850",
        "colab": {
          "base_uri": "https://localhost:8080/",
          "height": 51
        }
      },
      "source": [
        "confidence_scores, _, num_evals, _ = fiesta.non_adaptive_fc([], model_functions, \n",
        "                                                            dummy_split_function, 0.05)\n",
        "# Best model\n",
        "best_model_name = model_names[np.argmax(confidence_scores)]\n",
        "print(f'Best model: {best_model_name}\\nNumber of evaluations {num_evals}')"
      ],
      "execution_count": 22,
      "outputs": [
        {
          "output_type": "stream",
          "text": [
            "Best model: tdlstm\n",
            "Number of evaluations 128\n"
          ],
          "name": "stdout"
        }
      ]
    },
    {
      "cell_type": "markdown",
      "metadata": {
        "id": "FyW-8OqdfRKX",
        "colab_type": "text"
      },
      "source": [
        "As we can see, it has found the best model TDLSTM but it has taken a lot of model evaluations to find the best (208). We will now show that by using our adaptive Top-Two Thompson Sampling approach we can do this with far fewer model evaluations."
      ]
    },
    {
      "cell_type": "code",
      "metadata": {
        "id": "_MgEPzpgabce",
        "colab_type": "code",
        "outputId": "b6b7cb73-76de-4828-80c6-c40fcfe405da",
        "colab": {
          "base_uri": "https://localhost:8080/",
          "height": 51
        }
      },
      "source": [
        "confidence_scores, _, num_evals, _ = fiesta.TTTS([], model_functions, \n",
        "                                                 dummy_split_function, 0.05)\n",
        "# Best model\n",
        "best_model_name = model_names[np.argmax(confidence_scores)]\n",
        "print(f'Best model: {best_model_name}\\nNumber of evaluations {num_evals}')"
      ],
      "execution_count": 23,
      "outputs": [
        {
          "output_type": "stream",
          "text": [
            "Best model: tdlstm\n",
            "Number of evaluations 61\n"
          ],
          "name": "stdout"
        }
      ]
    },
    {
      "cell_type": "markdown",
      "metadata": {
        "id": "C-5_-AHbhMfG",
        "colab_type": "text"
      },
      "source": [
        "As shown it found the best model and done it in 67 fewer model evlautions. In the paper we show that the mean number of model evaluations required is 61 using TTTS compared to 128 using the standard non adaptive approach.\n",
        "\n",
        "Below shows the code on how we got general statistics from table 2 in the paper **(NOTE this will take a long time and probably should not be ran on Google Colab due to how long it will take to run.)**"
      ]
    },
    {
      "cell_type": "code",
      "metadata": {
        "id": "Oj7C01tRadqi",
        "colab_type": "code",
        "colab": {}
      },
      "source": [
        "# 10 -- Number of times to run the TTTS function (In the paper this is 500)\n",
        "# 0.2 the P-Value that the best model is the best model\n",
        "# 6 index of the best model (TDLSTM)\n",
        "number_runs = 10\n",
        "correct_model_index = 6\n",
        "ttts_kwargs = {'data': [], 'model_functions': model_functions, \n",
        "               'split_function': dummy_split_function, 'p_value': 0.2}\n",
        "\n",
        "\n",
        "TTTS_stats = fiesta.util.fc_func_stats(number_runs, correct_model_index, \n",
        "                                       'TTTS', **ttts_kwargs)\n",
        "TTTS_min, TTTS_mean, TTTS_max, TTTS_correct = TTTS_stats"
      ],
      "execution_count": 0,
      "outputs": []
    },
    {
      "cell_type": "code",
      "metadata": {
        "id": "j7__V44NapE-",
        "colab_type": "code",
        "colab": {}
      },
      "source": [
        "# 10 -- Number of times to run the standard non-adaptive function \n",
        "# (In the paper this is 500)\n",
        "# 0.2 the P-Value that the best model is the best model\n",
        "# 6 index of the best model (TDLSTM)\n",
        "\n",
        "non_adaptive_kwargs = ttts_kwargs\n",
        "standard_fc_stats = fiesta.util.fc_func_stats(number_runs, correct_model_index, \n",
        "                                              'non_adaptive_fc', \n",
        "                                              **non_adaptive_kwargs)\n",
        "standard_min, standard_mean, standard_max, standard_correct = standard_fc_stats"
      ],
      "execution_count": 0,
      "outputs": []
    },
    {
      "cell_type": "code",
      "metadata": {
        "id": "cb9tNDD5wMQ8",
        "colab_type": "code",
        "outputId": "a1a7293d-06fc-4e0c-dc23-4bf9ae4bde87",
        "colab": {
          "base_uri": "https://localhost:8080/",
          "height": 34
        }
      },
      "source": [
        "TTTS_stats"
      ],
      "execution_count": 26,
      "outputs": [
        {
          "output_type": "execute_result",
          "data": {
            "text/plain": [
              "(38, 64.6, 132, 10.0)"
            ]
          },
          "metadata": {
            "tags": []
          },
          "execution_count": 26
        }
      ]
    },
    {
      "cell_type": "code",
      "metadata": {
        "id": "bCTH4tA3wMTE",
        "colab_type": "code",
        "outputId": "0eca5ac5-a9c3-4e9f-d57c-547573efbc15",
        "colab": {
          "base_uri": "https://localhost:8080/",
          "height": 34
        }
      },
      "source": [
        "standard_fc_stats"
      ],
      "execution_count": 27,
      "outputs": [
        {
          "output_type": "execute_result",
          "data": {
            "text/plain": [
              "(40, 135.2, 328, 10.0)"
            ]
          },
          "metadata": {
            "tags": []
          },
          "execution_count": 27
        }
      ]
    },
    {
      "cell_type": "markdown",
      "metadata": {
        "id": "XO2VvP_Iq4y0",
        "colab_type": "text"
      },
      "source": [
        "# FB\n",
        "Here given these 8 models and a budget of **T** model evaluations we want to make the best use of the budget so that we are more likely to select the best model from the set of models. Using the same model functions and 500 model evaluations from the **FC** section we show that at different budget levels the probability we get the best model correct."
      ]
    },
    {
      "cell_type": "code",
      "metadata": {
        "id": "tralWq5EhC4c",
        "colab_type": "code",
        "outputId": "16f233b8-b245-43bf-b3b9-7b9b3de0ca78",
        "colab": {
          "base_uri": "https://localhost:8080/",
          "height": 473
        }
      },
      "source": [
        "budgets = list(range(36, 229, 12)) # Increments of 12 from 36 to 228\n",
        "number_runs = 10000\n",
        "correct_model_index = 6\n",
        "\n",
        "fb_func_pretty_names = ['Non-adaptive', 'Sequential Halving']\n",
        "fb_func_names = ['non_adaptive_fb', 'sequential_halving']\n",
        "fb_func_kwargs = {'data': [], 'split_function': dummy_split_function, \n",
        "                  'model_functions': model_functions}\n",
        "\n",
        "fb_func_budget_probability_correct: Dict[str, Dict[int, float]] = {'Non-adaptive': {}, \n",
        "                                                                   'Sequential Halving': {}}\n",
        "\n",
        "for budget in budgets:\n",
        "  for fb_func_pretty_name, fb_func_name in zip(fb_func_pretty_names, fb_func_names):\n",
        "    fb_func_kwargs['budget'] = budget\n",
        "    probability_correct = fiesta.util.fb_func_stats(number_runs, correct_model_index, \n",
        "                                                    fb_func_name, **fb_func_kwargs)\n",
        "    fb_func_budget_probability_correct[fb_func_pretty_name][budget] = probability_correct\n",
        "fb_probability_plot(fb_func_budget_probability_correct)"
      ],
      "execution_count": 28,
      "outputs": [
        {
          "output_type": "display_data",
          "data": {
            "image/png": "[encoded data removed]",
            "text/plain": [
              "<Figure size 720x540 with 1 Axes>"
            ]
          },
          "metadata": {
            "tags": []
          }
        }
      ]
    },
    {
      "cell_type": "markdown",
      "metadata": {
        "id": "_FJJB9sE9rzt",
        "colab_type": "text"
      },
      "source": [
        "As we can see above the adaptive sequential halving method is by far a lot better than the standard non adaptive approach. After 120 model evaluation which is the equivalent to 15 evaluations per model we have reached a probability of 0.9555 of selecting the best model where as it would take at least 228 model evaluation for the non adaptive to get this probability which is the equivalent of evaluating each model 28 times."
      ]
    },
    {
      "cell_type": "code",
      "metadata": {
        "id": "t6Oit0dZdjmc",
        "colab_type": "code",
        "outputId": "260607dd-8f11-4399-d87e-6434bca1d819",
        "colab": {
          "base_uri": "https://localhost:8080/",
          "height": 34
        }
      },
      "source": [
        "fb_func_budget_probability_correct['Sequential Halving'][120]"
      ],
      "execution_count": 29,
      "outputs": [
        {
          "output_type": "execute_result",
          "data": {
            "text/plain": [
              "0.9555"
            ]
          },
          "metadata": {
            "tags": []
          },
          "execution_count": 29
        }
      ]
    },
    {
      "cell_type": "code",
      "metadata": {
        "id": "Sr8L59qCdjpT",
        "colab_type": "code",
        "outputId": "a4e9ddea-f290-478b-fd6e-a00ba3231669",
        "colab": {
          "base_uri": "https://localhost:8080/",
          "height": 34
        }
      },
      "source": [
        "fb_func_budget_probability_correct['Non-adaptive'][228]"
      ],
      "execution_count": 30,
      "outputs": [
        {
          "output_type": "execute_result",
          "data": {
            "text/plain": [
              "0.9502"
            ]
          },
          "metadata": {
            "tags": []
          },
          "execution_count": 30
        }
      ]
    },
    {
      "cell_type": "code",
      "metadata": {
        "id": "GrgntHLNa2D8",
        "colab_type": "code",
        "colab": {}
      },
      "source": [
        ""
      ],
      "execution_count": 0,
      "outputs": []
    }
  ]
}