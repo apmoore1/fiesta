{
 "cells": [
  {
   "cell_type": "code",
   "execution_count": 2,
   "metadata": {},
   "outputs": [],
   "source": [
    "import matplotlib.pyplot as plt\n",
    "import numpy as np\n",
    "import seaborn as sbn\n",
    "import os\n",
    "import pandas as pd\n",
    "import json"
   ]
  },
  {
   "cell_type": "code",
   "execution_count": null,
   "metadata": {},
   "outputs": [],
   "source": [
    "# This code makes plots from pre-computed runs of our model selection algorithms"
   ]
  },
  {
   "cell_type": "markdown",
   "metadata": {},
   "source": [
    "# look at FC"
   ]
  },
  {
   "cell_type": "code",
   "execution_count": null,
   "metadata": {},
   "outputs": [],
   "source": [
    "#code to read in results from 100 runs of TTTS and non-adaptive"
   ]
  },
  {
   "cell_type": "code",
   "execution_count": 3,
   "metadata": {},
   "outputs": [],
   "source": [
    "#read in results\n",
    "\n",
    "Approaches=[\"FC_non_adapt\",\"TTTS\"]\n",
    "models_considered=[\"8\"]\n",
    "confidence_levels=[\"0.05\",\"0.1\",\"0.2\",\"0.5\"]\n",
    "\n",
    "required_num_iterations={} \n",
    "chosen_models={}\n",
    "for approach in Approaches:\n",
    "        required_num_iterations[approach]={}\n",
    "        chosen_models[approach]={}\n",
    "        for models in models_considered:\n",
    "            required_num_iterations[approach][models]={}\n",
    "            chosen_models[approach][models]={}\n",
    "            for confidence in confidence_levels:\n",
    "                seeds=os.listdir(\"./\"+approach+\"/\"+models+\"/\"+confidence)\n",
    "                required_number_of_iteration=[]\n",
    "                chosen_model=[]\n",
    "                for seed in seeds:\n",
    "                    required_number_of_iteration.append(json.load(open(\"./\"+approach+\"/\"+models+\"/\"+confidence+\"/\"+seed+\"/\"+'num.json')))\n",
    "                    chosen_model.append(np.argmax(json.load(open(\"./\"+approach+\"/\"+models+\"/\"+confidence+\"/\"+seed+\"/\"+'pi.json'))))\n",
    "                required_num_iterations[approach][models][confidence]=np.array(required_number_of_iteration)\n",
    "                chosen_models[approach][models][confidence]=np.array(chosen_model)\n",
    "        \n",
    "    "
   ]
  },
  {
   "cell_type": "code",
   "execution_count": 9,
   "metadata": {},
   "outputs": [
    {
     "data": {
      "text/plain": [
       "208"
      ]
     },
     "execution_count": 9,
     "metadata": {},
     "output_type": "execute_result"
    }
   ],
   "source": [
    "#max across the 100 runs of standard non-adaptive model selection on 8 models with confidence level 0.5\n",
    "np.max(required_num_iterations[\"FC_non_adapt\"][\"8\"][\"0.5\"])"
   ]
  },
  {
   "cell_type": "code",
   "execution_count": 10,
   "metadata": {},
   "outputs": [
    {
     "data": {
      "text/plain": [
       "80"
      ]
     },
     "execution_count": 10,
     "metadata": {},
     "output_type": "execute_result"
    }
   ],
   "source": [
    "#max across the 100 runs of TTTS on 8 models with confidence level 0.5\n",
    "np.max(required_num_iterations[\"TTTS\"][\"8\"][\"0.5\"])"
   ]
  },
  {
   "cell_type": "code",
   "execution_count": 19,
   "metadata": {},
   "outputs": [
    {
     "data": {
      "text/plain": [
       "0.786"
      ]
     },
     "execution_count": 19,
     "metadata": {},
     "output_type": "execute_result"
    }
   ],
   "source": [
    "#Proportion correctly selected the optimal acorss 100 runs of standard non-adaptive model selection on 8 models with confidence level 0.5\n",
    "np.count_nonzero(chosen_models[\"FC_non_adapt\"][\"8\"][\"0.5\"]==3)/len(chosen_models[\"FC_non_adapt\"][\"8\"][\"0.1\"])"
   ]
  },
  {
   "cell_type": "code",
   "execution_count": 17,
   "metadata": {},
   "outputs": [
    {
     "data": {
      "text/plain": [
       "0.742"
      ]
     },
     "execution_count": 17,
     "metadata": {},
     "output_type": "execute_result"
    }
   ],
   "source": [
    "#Proportion correctly selected the optimal acorss 100 runs of standard non-adaptive model selection on 8 models with confidence level 0.5\n",
    "\n",
    "np.count_nonzero(chosen_models[\"TTTS\"][\"8\"][\"0.5\"]==3)/len(chosen_models[\"FC_non_adapt\"][\"8\"][\"0.1\"])"
   ]
  },
  {
   "cell_type": "markdown",
   "metadata": {},
   "source": [
    "# look at FB"
   ]
  },
  {
   "cell_type": "code",
   "execution_count": null,
   "metadata": {},
   "outputs": [],
   "source": [
    "#code to read in results from selecting between 12 TDSA models using SH and non-adaptive"
   ]
  },
  {
   "cell_type": "code",
   "execution_count": 21,
   "metadata": {},
   "outputs": [],
   "source": [
    "#read in results\n",
    "\n",
    "Approaches=[\"FB_non_adapt\",\"SH\"]\n",
    "models_considered=[\"12\"]\n",
    "\n",
    "proportions={} \n",
    "\n",
    "for approach in Approaches:\n",
    "        proportions[approach]={}\n",
    "        for models in models_considered:\n",
    "            if approach==\"SH\":\n",
    "                Ts=os.listdir(\"./\"+approach+\"/\"+models)\n",
    "                Ts.sort(key=int)\n",
    "                proportion=[]\n",
    "                for t in Ts:\n",
    "                    proportion.append(json.load(open(\"./\"+approach+\"/\"+models+\"/\"+t+\"/\"+'prop_adaptive.json')))\n",
    "                proportions[approach][models]=proportion\n",
    "            if approach==\"FB_non_adapt\":\n",
    "                Ts=os.listdir(\"./\"+approach+\"/\"+models)\n",
    "                Ts.sort(key=int)\n",
    "                proportion=[]\n",
    "                for t in Ts:\n",
    "                    proportion.append(json.load(open(\"./\"+approach+\"/\"+models+\"/\"+t+\"/\"+'prop_non_adaptive.json')))\n",
    "                proportions[approach][models]=proportion\n",
    "            \n",
    "      "
   ]
  },
  {
   "cell_type": "code",
   "execution_count": 22,
   "metadata": {},
   "outputs": [
    {
     "data": {
      "image/png": "[encoded data removed]",
      "text/plain": [
       "<Figure size 432x288 with 1 Axes>"
      ]
     },
     "metadata": {},
     "output_type": "display_data"
    }
   ],
   "source": [
    "#make plot]\n",
    "plt.rcParams.update({'font.size': 13})\n",
    "ind = np.arange(1,18) \n",
    "width = 0.35       \n",
    "plt.bar(ind, proportions[\"FB_non_adapt\"][\"12\"][1:], width, label='Non-adaptive')\n",
    "plt.bar(ind + width, proportions[\"SH\"][\"12\"][1:], width,\n",
    "    label='Sequential Halving')\n",
    "\n",
    "plt.ylabel('Probability of selecting optimal')\n",
    "\n",
    "plt.xticks(ind + width / 2,Ts)\n",
    "plt.xticks(rotation=90)\n",
    "plt.xlabel(\"Budget T\")\n",
    "plt.legend(loc='best')\n",
    "plt.ylim(0.5,1)\n",
    "plt.show()"
   ]
  }
 ],
 "metadata": {
  "kernelspec": {
   "display_name": "Python 3",
   "language": "python",
   "name": "python3"
  },
  "language_info": {
   "codemirror_mode": {
    "name": "ipython",
    "version": 3
   },
   "file_extension": ".py",
   "mimetype": "text/x-python",
   "name": "python",
   "nbconvert_exporter": "python",
   "pygments_lexer": "ipython3",
   "version": "3.6.7"
  }
 },
 "nbformat": 4,
 "nbformat_minor": 2
}
